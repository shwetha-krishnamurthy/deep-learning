{
 "cells": [
  {
   "cell_type": "code",
   "execution_count": null,
   "metadata": {},
   "outputs": [],
   "source": [
    "import sklearn"
   ]
  },
  {
   "cell_type": "code",
   "execution_count": null,
   "metadata": {},
   "outputs": [],
   "source": [
    "import plotly\n",
    "import plotly.plotly as py\n",
    "import plotly.graph_objs as go\n",
    "from plotly import tools\n",
    "\n",
    "import numpy as np\n",
    "from sklearn.gaussian_process import GaussianProcessRegressor\n",
    "from sklearn.gaussian_process.kernels import (RBF, Matern, RationalQuadratic,\n",
    "                                              ExpSineSquared, DotProduct,\n",
    "                                              ConstantKernel)"
   ]
  },
  {
   "cell_type": "code",
   "execution_count": null,
   "metadata": {},
   "outputs": [],
   "source": [
    "kernels = [1.0 * RBF(length_scale=1.0, length_scale_bounds=(1e-1, 10.0)),\n",
    "           1.0 * RationalQuadratic(length_scale=1.0, alpha=0.1),\n",
    "           1.0 * ExpSineSquared(length_scale=1.0, periodicity=3.0,\n",
    "                                length_scale_bounds=(0.1, 10.0),\n",
    "                                periodicity_bounds=(1.0, 10.0)),\n",
    "           ConstantKernel(0.1, (0.01, 10.0))\n",
    "               * (DotProduct(sigma_0=1.0, sigma_0_bounds=(0.0, 10.0)) ** 2),\n",
    "           1.0 * Matern(length_scale=1.0, length_scale_bounds=(1e-1, 10.0),\n",
    "                        nu=1.5)]\n",
    " \n",
    "color = 2 * ['red', 'green', 'blue', 'cyan', 'magenta', 'orange']"
   ]
  },
  {
   "cell_type": "code",
   "execution_count": null,
   "metadata": {},
   "outputs": [],
   "source": [
    "plots = []\n",
    "titles = []\n",
    "\n",
    "for fig_index, kernel in enumerate(kernels):\n",
    "    # Specify Gaussian Process\n",
    "    plots.append([[], []])\n",
    "    gp = GaussianProcessRegressor(kernel=kernel)\n",
    "\n",
    "    # Plot prior\n",
    "    X_ = np.linspace(0, 5, 100)\n",
    "    y_mean, y_std = gp.predict(X_[:, np.newaxis], return_std=True)\n",
    "    \n",
    "    p1 = go.Scatter(x=X_, y=y_mean, \n",
    "                    showlegend=False,\n",
    "                    mode='lines',\n",
    "                    line=dict(color='black')\n",
    "                   )\n",
    "    \n",
    "    p2 = go.Scatter(x=X_, y=y_mean + y_std,\n",
    "                    mode='lines',\n",
    "                    showlegend=False,\n",
    "                    line=dict(color='black')\n",
    "                   )\n",
    "    \n",
    "    p3 = go.Scatter(x=X_, y=y_mean - y_std,\n",
    "                    mode='lines',\n",
    "                    showlegend=False,\n",
    "                    line=dict(color='black'),\n",
    "                    fill = 'tonexty'\n",
    "                   )\n",
    "    plots[fig_index][0].append(p2)\n",
    "    plots[fig_index][0].append(p3)\n",
    "    plots[fig_index][0].append(p1)\n",
    "    \n",
    "    y_samples = gp.sample_y(X_[:, np.newaxis], 10)\n",
    "    \n",
    "    k = []\n",
    "    for col in range(0, len(y_samples[0])):\n",
    "            k.append([])\n",
    "            for row in range(0, len(y_samples)):\n",
    "                k[col].append(y_samples[row][col])\n",
    "        \n",
    "    for l in range(0, 10):\n",
    "        p4 = go.Scatter(x=X_, y=k[l],\n",
    "                        showlegend=False,\n",
    "                        mode='lines',\n",
    "                        line=dict(color=color[l], width=1),\n",
    "                       )\n",
    "        \n",
    "        plots[fig_index][0].append(p4)\n",
    "        \n",
    "    titles.append(\"Prior <br>(kernel:  %s)\" % kernel)\n",
    "\n",
    "    # Generate data and fit GP\n",
    "    rng = np.random.RandomState(4)\n",
    "    X = rng.uniform(0, 5, 10)[:, np.newaxis]\n",
    "    y = np.sin((X[:, 0] - 2.5) ** 2)    #==========================================================================\n",
    "    gp.fit(X, y)\n",
    "\n",
    "    # Plot posterior\n",
    "    y_mean, y_std = gp.predict(X_[:, np.newaxis], return_std=True)\n",
    "    p1 = go.Scatter(x=X_, y=y_mean,\n",
    "                    showlegend=False,\n",
    "                    mode='lines',\n",
    "                    line=dict(color='black')\n",
    "                   )\n",
    "    \n",
    "    p2 = go.Scatter(x=X_, y=y_mean + y_std,\n",
    "                    showlegend=False,\n",
    "                    mode='lines',\n",
    "                    line=dict(color='black')\n",
    "                   )\n",
    "    \n",
    "    p3 = go.Scatter(x=X_, y=y_mean - y_std,\n",
    "                    mode='lines',\n",
    "                    showlegend=False,\n",
    "                    line=dict(color='black'),\n",
    "                    fill = 'tonexty'\n",
    "                   )\n",
    "    plots[fig_index][1].append(p2)\n",
    "    plots[fig_index][1].append(p3)\n",
    "    plots[fig_index][1].append(p1)\n",
    "    \n",
    "    y_samples = gp.sample_y(X_[:, np.newaxis], 10)\n",
    "    \n",
    "    k = []\n",
    "    for col in range(0, len(y_samples[0])):\n",
    "            k.append([])\n",
    "            for row in range(0, len(y_samples)):\n",
    "                k[col].append(y_samples[row][col])\n",
    "        \n",
    "    for l in range(0, 10):\n",
    "        p4 = go.Scatter(x=X_, y=k[l],\n",
    "                        showlegend=False,\n",
    "                        mode='lines',\n",
    "                        line=dict(color=color[l], width=1),\n",
    "                       )\n",
    "        \n",
    "        plots[fig_index][1].append(p4)\n",
    "        \n",
    "    p5 = go.Scatter(x=X[:, 0], y=y,\n",
    "                    showlegend=False,\n",
    "                    mode='markers',\n",
    "                    line=dict(color='red'),\n",
    "                   )\n",
    "    plots[fig_index][1].append(p5)\n",
    "    \n",
    "    titles.append(\"Posterior <br>(kernel: %s)<br>Log-Likelihood: %.3f\"\n",
    "                  % (gp.kernel_, gp.log_marginal_likelihood(gp.kernel_.theta)))"
   ]
  },
  {
   "cell_type": "code",
   "execution_count": null,
   "metadata": {},
   "outputs": [],
   "source": [
    "def create_subplots(plots, titles):\n",
    "    fig = tools.make_subplots(rows=1, cols=2,\n",
    "                          subplot_titles=tuple(titles),\n",
    "                          print_grid=False)\n",
    "    \n",
    "    for j in range(0, len(plots[0])):\n",
    "        fig.append_trace(plots[0][j], 1, 1)\n",
    "    for k in range(0, len(plots[1])):\n",
    "        fig.append_trace(plots[1][k], 1, 2)\n",
    "        \n",
    "    for i in map(str, range(1, 3)):\n",
    "        y = 'yaxis' + i\n",
    "        x = 'xaxis' + i\n",
    "        fig['layout'][y].update(showticklabels=False, ticks='', \n",
    "                                zeroline=False, showgrid=False)\n",
    "        fig['layout'][x].update(showticklabels=False, ticks='',\n",
    "                                zeroline=False, showgrid=False)\n",
    "\n",
    "    fig['layout'].update(hovermode='closest',\n",
    "                         margin=dict(l=0, b=10,\n",
    "                                     r=0, ))\n",
    "    return fig"
   ]
  },
  {
   "cell_type": "code",
   "execution_count": null,
   "metadata": {},
   "outputs": [],
   "source": [
    "fig = create_subplots(plots[0], titles[0 : 2])\n",
    "plotly.offline.plot(fig, auto_open=True)"
   ]
  },
  {
   "cell_type": "code",
   "execution_count": null,
   "metadata": {},
   "outputs": [],
   "source": [
    "fig = create_subplots(plots[1], titles[2 : 4])\n",
    "plotly.offline.plot(fig)"
   ]
  },
  {
   "cell_type": "code",
   "execution_count": null,
   "metadata": {},
   "outputs": [],
   "source": [
    "fig = create_subplots(plots[2], titles[4 : 6])\n",
    "plotly.offline.plot(fig)"
   ]
  },
  {
   "cell_type": "code",
   "execution_count": null,
   "metadata": {},
   "outputs": [],
   "source": [
    "fig = create_subplots(plots[3], titles[6 : 8])\n",
    "plotly.offline.plot(fig)"
   ]
  },
  {
   "cell_type": "code",
   "execution_count": null,
   "metadata": {},
   "outputs": [],
   "source": [
    "fig = create_subplots(plots[4], titles[8 : 10])\n",
    "plotly.offline.plot(fig)"
   ]
  },
  {
   "cell_type": "code",
   "execution_count": null,
   "metadata": {},
   "outputs": [],
   "source": []
  }
 ],
 "metadata": {
  "kernelspec": {
   "display_name": "Python 3",
   "language": "python",
   "name": "python3"
  },
  "language_info": {
   "codemirror_mode": {
    "name": "ipython",
    "version": 3
   },
   "file_extension": ".py",
   "mimetype": "text/x-python",
   "name": "python",
   "nbconvert_exporter": "python",
   "pygments_lexer": "ipython3",
   "version": "3.5.5"
  }
 },
 "nbformat": 4,
 "nbformat_minor": 2
}
